{
  "nbformat": 4,
  "nbformat_minor": 0,
  "metadata": {
    "colab": {
      "name": "The Two Models",
      "provenance": []
    },
    "kernelspec": {
      "name": "python3",
      "display_name": "Python 3"
    }
  },
  "cells": [
    {
      "cell_type": "code",
      "metadata": {
        "id": "63PYS8jRrcjm",
        "colab_type": "code",
        "colab": {}
      },
      "source": [
        "from __future__ import absolute_import, division, print_function \n",
        "\n",
        "import warnings\n",
        "warnings.filterwarnings(\"ignore\")\n",
        "\n",
        "\n",
        "import numpy as np\n",
        "import pandas as pd\n",
        "import matplotlib.pyplot as plt\n",
        "\n",
        "from sklearn.model_selection import train_test_split\n",
        "from sklearn.preprocessing import StandardScaler\n",
        "from sklearn.metrics import confusion_matrix, precision_recall_curve, roc_auc_score, roc_curve, accuracy_score\n",
        "from sklearn.preprocessing import LabelEncoder\n",
        "from sklearn.preprocessing import label_binarize\n",
        "\n",
        "import seaborn as sns\n",
        "\n",
        "%matplotlib inline"
      ],
      "execution_count": 0,
      "outputs": []
    },
    {
      "cell_type": "code",
      "metadata": {
        "id": "5FD8R6SZ1eOv",
        "colab_type": "code",
        "outputId": "ffe204af-22b9-4215-ddf6-1b345a8f8b93",
        "colab": {
          "base_uri": "https://localhost:8080/",
          "height": 408
        }
      },
      "source": [
        "!pip install Tensorflow"
      ],
      "execution_count": 7,
      "outputs": [
        {
          "output_type": "stream",
          "text": [
            "Requirement already satisfied: Tensorflow in /usr/local/lib/python3.6/dist-packages (1.15.0)\n",
            "Requirement already satisfied: opt-einsum>=2.3.2 in /usr/local/lib/python3.6/dist-packages (from Tensorflow) (3.1.0)\n",
            "Requirement already satisfied: wheel>=0.26 in /usr/local/lib/python3.6/dist-packages (from Tensorflow) (0.34.2)\n",
            "Requirement already satisfied: keras-preprocessing>=1.0.5 in /usr/local/lib/python3.6/dist-packages (from Tensorflow) (1.1.0)\n",
            "Requirement already satisfied: tensorflow-estimator==1.15.1 in /usr/local/lib/python3.6/dist-packages (from Tensorflow) (1.15.1)\n",
            "Requirement already satisfied: absl-py>=0.7.0 in /usr/local/lib/python3.6/dist-packages (from Tensorflow) (0.9.0)\n",
            "Requirement already satisfied: numpy<2.0,>=1.16.0 in /usr/local/lib/python3.6/dist-packages (from Tensorflow) (1.17.5)\n",
            "Requirement already satisfied: astor>=0.6.0 in /usr/local/lib/python3.6/dist-packages (from Tensorflow) (0.8.1)\n",
            "Requirement already satisfied: keras-applications>=1.0.8 in /usr/local/lib/python3.6/dist-packages (from Tensorflow) (1.0.8)\n",
            "Requirement already satisfied: six>=1.10.0 in /usr/local/lib/python3.6/dist-packages (from Tensorflow) (1.12.0)\n",
            "Requirement already satisfied: protobuf>=3.6.1 in /usr/local/lib/python3.6/dist-packages (from Tensorflow) (3.10.0)\n",
            "Requirement already satisfied: wrapt>=1.11.1 in /usr/local/lib/python3.6/dist-packages (from Tensorflow) (1.11.2)\n",
            "Requirement already satisfied: tensorboard<1.16.0,>=1.15.0 in /usr/local/lib/python3.6/dist-packages (from Tensorflow) (1.15.0)\n",
            "Requirement already satisfied: grpcio>=1.8.6 in /usr/local/lib/python3.6/dist-packages (from Tensorflow) (1.27.1)\n",
            "Requirement already satisfied: gast==0.2.2 in /usr/local/lib/python3.6/dist-packages (from Tensorflow) (0.2.2)\n",
            "Requirement already satisfied: termcolor>=1.1.0 in /usr/local/lib/python3.6/dist-packages (from Tensorflow) (1.1.0)\n",
            "Requirement already satisfied: google-pasta>=0.1.6 in /usr/local/lib/python3.6/dist-packages (from Tensorflow) (0.1.8)\n",
            "Requirement already satisfied: h5py in /usr/local/lib/python3.6/dist-packages (from keras-applications>=1.0.8->Tensorflow) (2.8.0)\n",
            "Requirement already satisfied: setuptools in /usr/local/lib/python3.6/dist-packages (from protobuf>=3.6.1->Tensorflow) (45.1.0)\n",
            "Requirement already satisfied: markdown>=2.6.8 in /usr/local/lib/python3.6/dist-packages (from tensorboard<1.16.0,>=1.15.0->Tensorflow) (3.2.1)\n",
            "Requirement already satisfied: werkzeug>=0.11.15 in /usr/local/lib/python3.6/dist-packages (from tensorboard<1.16.0,>=1.15.0->Tensorflow) (1.0.0)\n"
          ],
          "name": "stdout"
        }
      ]
    },
    {
      "cell_type": "code",
      "metadata": {
        "id": "qJH_g3381XU8",
        "colab_type": "code",
        "colab": {}
      },
      "source": [
        "import keras\n",
        "from keras.models  import Sequential, K\n",
        "from keras.layers import Input, Dense, Flatten, Dropout, BatchNormalization\n",
        "from keras.optimizers import Adam, SGD, RMSprop\n",
        "from keras.wrappers.scikit_learn import KerasClassifier\n",
        "from keras.utils import np_utils\n",
        "from keras import metrics"
      ],
      "execution_count": 0,
      "outputs": []
    },
    {
      "cell_type": "code",
      "metadata": {
        "id": "D_BKFCdq1lct",
        "colab_type": "code",
        "outputId": "0b5f1bc3-9b4a-4554-ed96-a084e0b6ac77",
        "colab": {
          "base_uri": "https://localhost:8080/",
          "height": 36
        }
      },
      "source": [
        "from google.colab import drive\n",
        "drive.mount('/content/gdrive', force_remount=False)"
      ],
      "execution_count": 9,
      "outputs": [
        {
          "output_type": "stream",
          "text": [
            "Drive already mounted at /content/gdrive; to attempt to forcibly remount, call drive.mount(\"/content/gdrive\", force_remount=True).\n"
          ],
          "name": "stdout"
        }
      ]
    },
    {
      "cell_type": "markdown",
      "metadata": {
        "id": "HtdTnBnRt5vS",
        "colab_type": "text"
      },
      "source": [
        "**dataset** **that** has *been* *cleened*"
      ]
    },
    {
      "cell_type": "code",
      "metadata": {
        "id": "K_P3zihQ1_t2",
        "colab_type": "code",
        "outputId": "301a0693-a92f-47da-c9b2-8f7aed047c8e",
        "colab": {
          "resources": {
            "http://localhost:8080/nbextensions/google.colab/files.js": {
              "data": "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",
              "ok": true,
              "headers": [
                [
                  "content-type",
                  "application/javascript"
                ]
              ],
              "status": 200,
              "status_text": "OK"
            }
          },
          "base_uri": "https://localhost:8080/",
          "height": 79
        }
      },
      "source": [
        "from google.colab import files\n",
        "uploaded = files.upload()"
      ],
      "execution_count": 10,
      "outputs": [
        {
          "output_type": "display_data",
          "data": {
            "text/html": [
              "\n",
              "     <input type=\"file\" id=\"files-0b84059e-a89f-4e02-bb02-7cdc66a8fcde\" name=\"files[]\" multiple disabled />\n",
              "     <output id=\"result-0b84059e-a89f-4e02-bb02-7cdc66a8fcde\">\n",
              "      Upload widget is only available when the cell has been executed in the\n",
              "      current browser session. Please rerun this cell to enable.\n",
              "      </output>\n",
              "      <script src=\"/nbextensions/google.colab/files.js\"></script> "
            ],
            "text/plain": [
              "<IPython.core.display.HTML object>"
            ]
          },
          "metadata": {
            "tags": []
          }
        },
        {
          "output_type": "stream",
          "text": [
            "Saving datetimeunix.csv to datetimeunix (1).csv\n"
          ],
          "name": "stdout"
        }
      ]
    },
    {
      "cell_type": "code",
      "metadata": {
        "id": "PSLLPVNE2O5n",
        "colab_type": "code",
        "outputId": "a0208c87-5062-4488-e9ac-8299c8d36d15",
        "colab": {
          "base_uri": "https://localhost:8080/",
          "height": 144
        }
      },
      "source": [
        "import io\n",
        "dl_df=pd.read_csv(io.StringIO(uploaded['datetimeunix.csv'].decode('utf-8')))\n",
        "dl_df.head(3)"
      ],
      "execution_count": 11,
      "outputs": [
        {
          "output_type": "execute_result",
          "data": {
            "text/html": [
              "<div>\n",
              "<style scoped>\n",
              "    .dataframe tbody tr th:only-of-type {\n",
              "        vertical-align: middle;\n",
              "    }\n",
              "\n",
              "    .dataframe tbody tr th {\n",
              "        vertical-align: top;\n",
              "    }\n",
              "\n",
              "    .dataframe thead th {\n",
              "        text-align: right;\n",
              "    }\n",
              "</style>\n",
              "<table border=\"1\" class=\"dataframe\">\n",
              "  <thead>\n",
              "    <tr style=\"text-align: right;\">\n",
              "      <th></th>\n",
              "      <th>Unnamed: 0</th>\n",
              "      <th>event_date</th>\n",
              "      <th>year</th>\n",
              "      <th>time_precision</th>\n",
              "      <th>event_type</th>\n",
              "      <th>inter1</th>\n",
              "      <th>interaction</th>\n",
              "      <th>latitude</th>\n",
              "      <th>longitude</th>\n",
              "      <th>geo_precision</th>\n",
              "      <th>fatalities</th>\n",
              "      <th>timestamp</th>\n",
              "      <th>timestampcon</th>\n",
              "      <th>newtimestamp</th>\n",
              "    </tr>\n",
              "  </thead>\n",
              "  <tbody>\n",
              "    <tr>\n",
              "      <th>0</th>\n",
              "      <td>0</td>\n",
              "      <td>31 December 2015</td>\n",
              "      <td>2015</td>\n",
              "      <td>1</td>\n",
              "      <td>Riots/Protests</td>\n",
              "      <td>6</td>\n",
              "      <td>60</td>\n",
              "      <td>5.5263</td>\n",
              "      <td>7.4896</td>\n",
              "      <td>1</td>\n",
              "      <td>0</td>\n",
              "      <td>1524053911</td>\n",
              "      <td>2015-12-31</td>\n",
              "      <td>1.451520e+09</td>\n",
              "    </tr>\n",
              "    <tr>\n",
              "      <th>1</th>\n",
              "      <td>1</td>\n",
              "      <td>31 December 2015</td>\n",
              "      <td>2015</td>\n",
              "      <td>1</td>\n",
              "      <td>Riots/Protests</td>\n",
              "      <td>6</td>\n",
              "      <td>60</td>\n",
              "      <td>5.1066</td>\n",
              "      <td>7.3667</td>\n",
              "      <td>1</td>\n",
              "      <td>0</td>\n",
              "      <td>1524053911</td>\n",
              "      <td>2015-12-31</td>\n",
              "      <td>1.451520e+09</td>\n",
              "    </tr>\n",
              "    <tr>\n",
              "      <th>2</th>\n",
              "      <td>2</td>\n",
              "      <td>30 December 2015</td>\n",
              "      <td>2015</td>\n",
              "      <td>1</td>\n",
              "      <td>Strategic development</td>\n",
              "      <td>4</td>\n",
              "      <td>47</td>\n",
              "      <td>5.4411</td>\n",
              "      <td>6.2140</td>\n",
              "      <td>1</td>\n",
              "      <td>0</td>\n",
              "      <td>1524053911</td>\n",
              "      <td>2015-12-30</td>\n",
              "      <td>1.451434e+09</td>\n",
              "    </tr>\n",
              "  </tbody>\n",
              "</table>\n",
              "</div>"
            ],
            "text/plain": [
              "   Unnamed: 0        event_date  year  ...   timestamp timestampcon  newtimestamp\n",
              "0           0  31 December 2015  2015  ...  1524053911   2015-12-31  1.451520e+09\n",
              "1           1  31 December 2015  2015  ...  1524053911   2015-12-31  1.451520e+09\n",
              "2           2  30 December 2015  2015  ...  1524053911   2015-12-30  1.451434e+09\n",
              "\n",
              "[3 rows x 14 columns]"
            ]
          },
          "metadata": {
            "tags": []
          },
          "execution_count": 11
        }
      ]
    },
    {
      "cell_type": "markdown",
      "metadata": {
        "id": "fBV_Iot51Fn8",
        "colab_type": "text"
      },
      "source": [
        "*splitting the dataset into features and target*"
      ]
    },
    {
      "cell_type": "code",
      "metadata": {
        "id": "I82-uxwP2iFY",
        "colab_type": "code",
        "colab": {}
      },
      "source": [
        "x=dl_df.drop(['Unnamed: 0','event_date','event_type','timestamp','timestampcon'], axis=1)\n",
        "y=dl_df['event_type']"
      ],
      "execution_count": 0,
      "outputs": []
    },
    {
      "cell_type": "code",
      "metadata": {
        "id": "IVHC4bF3OlRV",
        "colab_type": "code",
        "outputId": "6af2993d-6a0b-4968-e147-cf4e95f0b0df",
        "colab": {
          "base_uri": "https://localhost:8080/",
          "height": 203
        }
      },
      "source": [
        "dl_df['event_type'].value_counts()"
      ],
      "execution_count": 13,
      "outputs": [
        {
          "output_type": "execute_result",
          "data": {
            "text/plain": [
              "Riots/Protests                                2348\n",
              "Violence against civilians                    1718\n",
              "Battle-No change of territory                 1019\n",
              "Battle-Government regains territory            198\n",
              "Remote violence                                183\n",
              "Strategic development                          135\n",
              "Non-violent transfer of territory               51\n",
              "Battle-Non-state actor overtakes territory       7\n",
              "Headquarters or base established                 4\n",
              "Name: event_type, dtype: int64"
            ]
          },
          "metadata": {
            "tags": []
          },
          "execution_count": 13
        }
      ]
    },
    {
      "cell_type": "markdown",
      "metadata": {
        "id": "9zQT7tLt1iOW",
        "colab_type": "text"
      },
      "source": [
        "target transformation of the categorical variable"
      ]
    },
    {
      "cell_type": "code",
      "metadata": {
        "id": "6SLFm1nci_h3",
        "colab_type": "code",
        "colab": {}
      },
      "source": [
        "\n",
        "encoder = LabelEncoder()\n",
        "encoder.fit(y)\n",
        "encoded_Y = encoder.transform(y)\n",
        "\n",
        "y= np_utils.to_categorical(encoded_Y)"
      ],
      "execution_count": 0,
      "outputs": []
    },
    {
      "cell_type": "markdown",
      "metadata": {
        "id": "HGut_gzP19dJ",
        "colab_type": "text"
      },
      "source": [
        "importing the percentage splitting"
      ]
    },
    {
      "cell_type": "code",
      "metadata": {
        "id": "KlqzpknmiGiJ",
        "colab_type": "code",
        "colab": {}
      },
      "source": [
        "from keras.wrappers.scikit_learn import KerasClassifier\n",
        "from sklearn.model_selection import cross_val_score\n",
        "from sklearn.model_selection import KFold\n",
        "from sklearn.pipeline import Pipeline"
      ],
      "execution_count": 0,
      "outputs": []
    },
    {
      "cell_type": "code",
      "metadata": {
        "id": "sVWZTlD2IjNr",
        "colab_type": "code",
        "outputId": "1e6e1443-5527-4f2f-d0b0-1a2494d0dbf2",
        "colab": {
          "base_uri": "https://localhost:8080/",
          "height": 147
        }
      },
      "source": [
        "y"
      ],
      "execution_count": 16,
      "outputs": [
        {
          "output_type": "execute_result",
          "data": {
            "text/plain": [
              "array([[0., 0., 0., ..., 1., 0., 0.],\n",
              "       [0., 0., 0., ..., 1., 0., 0.],\n",
              "       [0., 0., 0., ..., 0., 1., 0.],\n",
              "       ...,\n",
              "       [0., 0., 0., ..., 0., 0., 1.],\n",
              "       [0., 0., 0., ..., 0., 0., 1.],\n",
              "       [0., 0., 0., ..., 0., 0., 1.]], dtype=float32)"
            ]
          },
          "metadata": {
            "tags": []
          },
          "execution_count": 16
        }
      ]
    },
    {
      "cell_type": "code",
      "metadata": {
        "id": "ybpEkcds23VR",
        "colab_type": "code",
        "colab": {}
      },
      "source": [
        "x_train, x_test, y_train, y_test = train_test_split(x,y, test_size=0.2, random_state=42)"
      ],
      "execution_count": 0,
      "outputs": []
    },
    {
      "cell_type": "code",
      "metadata": {
        "id": "_VP-vrjSiTtF",
        "colab_type": "code",
        "outputId": "4abcc108-6709-47f2-fac1-d973732b1d80",
        "colab": {
          "base_uri": "https://localhost:8080/",
          "height": 147
        }
      },
      "source": [
        "y_train"
      ],
      "execution_count": 18,
      "outputs": [
        {
          "output_type": "execute_result",
          "data": {
            "text/plain": [
              "array([[0., 0., 0., ..., 0., 0., 1.],\n",
              "       [0., 1., 0., ..., 0., 0., 0.],\n",
              "       [0., 0., 0., ..., 0., 0., 1.],\n",
              "       ...,\n",
              "       [0., 0., 0., ..., 1., 0., 0.],\n",
              "       [0., 0., 0., ..., 0., 0., 1.],\n",
              "       [0., 0., 0., ..., 1., 0., 0.]], dtype=float32)"
            ]
          },
          "metadata": {
            "tags": []
          },
          "execution_count": 18
        }
      ]
    },
    {
      "cell_type": "markdown",
      "metadata": {
        "id": "tZcz2xZo2hEg",
        "colab_type": "text"
      },
      "source": [
        "OPTIMIZATION MODEL"
      ]
    },
    {
      "cell_type": "code",
      "metadata": {
        "id": "VqKMevAk3cex",
        "colab_type": "code",
        "colab": {
          "base_uri": "https://localhost:8080/",
          "height": 74
        },
        "outputId": "e754ad90-c560-48c9-fae5-a30834bd8002"
      },
      "source": [
        "model= Sequential()"
      ],
      "execution_count": 19,
      "outputs": [
        {
          "output_type": "stream",
          "text": [
            "WARNING:tensorflow:From /usr/local/lib/python3.6/dist-packages/keras/backend/tensorflow_backend.py:66: The name tf.get_default_graph is deprecated. Please use tf.compat.v1.get_default_graph instead.\n",
            "\n"
          ],
          "name": "stdout"
        }
      ]
    },
    {
      "cell_type": "code",
      "metadata": {
        "id": "govDYJKb5PIu",
        "colab_type": "code",
        "colab": {}
      },
      "source": [
        "from keras import layers\n",
        "model.add(layers.Dense(units = 100, kernel_initializer = 'uniform', activation = 'relu', input_dim = 9,))\n",
        "\n",
        "# Adding the second hidden layer\n",
        "model.add(layers.Dense(units = 96, kernel_initializer = 'uniform', activation = 'relu'))\n",
        "model.add(layers.Dense(units = 128, kernel_initializer = 'uniform', activation = 'relu'))\n",
        "model.add(layers.Dense(units = 256, kernel_initializer = 'uniform', activation = 'relu'))\n",
        "model.add(layers.Dense(units = 256, kernel_initializer = 'uniform', activation = 'relu'))\n",
        "model.add(layers.Dense(units = 16, kernel_initializer = 'uniform', activation = 'relu'))\n",
        "\n",
        "# Adding the output layer\n",
        "model.add(layers.Dense(units = 9, kernel_initializer = 'uniform', activation = 'softmax'))\n",
        "from keras import optimizers\n",
        "sgd=optimizers.SGD(lr=0.01, decay=1e-6)\n",
        "# Compiling the ANN\n",
        "model.compile(optimizer = sgd, loss = 'categorical_crossentropy', metrics = [metrics.categorical_accuracy])"
      ],
      "execution_count": 0,
      "outputs": []
    },
    {
      "cell_type": "code",
      "metadata": {
        "id": "ahwZTZVD7Krz",
        "colab_type": "code",
        "outputId": "89e81ecb-7a34-4093-c785-4df587998514",
        "colab": {
          "base_uri": "https://localhost:8080/",
          "height": 1000
        }
      },
      "source": [
        "history = model.fit(x_train, y_train, validation_data=(x_test, y_test), batch_size = 10, epochs = 100)"
      ],
      "execution_count": 22,
      "outputs": [
        {
          "output_type": "stream",
          "text": [
            "WARNING:tensorflow:From /usr/local/lib/python3.6/dist-packages/tensorflow_core/python/ops/math_grad.py:1424: where (from tensorflow.python.ops.array_ops) is deprecated and will be removed in a future version.\n",
            "Instructions for updating:\n",
            "Use tf.where in 2.0, which has the same broadcast rule as np.where\n",
            "WARNING:tensorflow:From /usr/local/lib/python3.6/dist-packages/keras/backend/tensorflow_backend.py:1033: The name tf.assign_add is deprecated. Please use tf.compat.v1.assign_add instead.\n",
            "\n",
            "WARNING:tensorflow:From /usr/local/lib/python3.6/dist-packages/keras/backend/tensorflow_backend.py:1020: The name tf.assign is deprecated. Please use tf.compat.v1.assign instead.\n",
            "\n",
            "WARNING:tensorflow:From /usr/local/lib/python3.6/dist-packages/keras/backend/tensorflow_backend.py:3005: The name tf.Session is deprecated. Please use tf.compat.v1.Session instead.\n",
            "\n",
            "Train on 4530 samples, validate on 1133 samples\n",
            "Epoch 1/100\n",
            "WARNING:tensorflow:From /usr/local/lib/python3.6/dist-packages/keras/backend/tensorflow_backend.py:190: The name tf.get_default_session is deprecated. Please use tf.compat.v1.get_default_session instead.\n",
            "\n",
            "WARNING:tensorflow:From /usr/local/lib/python3.6/dist-packages/keras/backend/tensorflow_backend.py:197: The name tf.ConfigProto is deprecated. Please use tf.compat.v1.ConfigProto instead.\n",
            "\n",
            "WARNING:tensorflow:From /usr/local/lib/python3.6/dist-packages/keras/backend/tensorflow_backend.py:207: The name tf.global_variables is deprecated. Please use tf.compat.v1.global_variables instead.\n",
            "\n",
            "WARNING:tensorflow:From /usr/local/lib/python3.6/dist-packages/keras/backend/tensorflow_backend.py:216: The name tf.is_variable_initialized is deprecated. Please use tf.compat.v1.is_variable_initialized instead.\n",
            "\n",
            "WARNING:tensorflow:From /usr/local/lib/python3.6/dist-packages/keras/backend/tensorflow_backend.py:223: The name tf.variables_initializer is deprecated. Please use tf.compat.v1.variables_initializer instead.\n",
            "\n",
            "4530/4530 [==============================] - 3s 579us/step - loss: 1.8925 - categorical_accuracy: 0.4126 - val_loss: 1.6885 - val_categorical_accuracy: 0.4184\n",
            "Epoch 2/100\n",
            "4530/4530 [==============================] - 2s 410us/step - loss: 1.5945 - categorical_accuracy: 0.4137 - val_loss: 1.5350 - val_categorical_accuracy: 0.4184\n",
            "Epoch 3/100\n",
            "4530/4530 [==============================] - 2s 406us/step - loss: 1.4951 - categorical_accuracy: 0.4137 - val_loss: 1.4780 - val_categorical_accuracy: 0.4184\n",
            "Epoch 4/100\n",
            "4530/4530 [==============================] - 2s 392us/step - loss: 1.4536 - categorical_accuracy: 0.4137 - val_loss: 1.4547 - val_categorical_accuracy: 0.4184\n",
            "Epoch 5/100\n",
            "4530/4530 [==============================] - 2s 387us/step - loss: 1.4355 - categorical_accuracy: 0.4137 - val_loss: 1.4447 - val_categorical_accuracy: 0.4184\n",
            "Epoch 6/100\n",
            "4530/4530 [==============================] - 2s 409us/step - loss: 1.4267 - categorical_accuracy: 0.4137 - val_loss: 1.4402 - val_categorical_accuracy: 0.4184\n",
            "Epoch 7/100\n",
            "4530/4530 [==============================] - 2s 399us/step - loss: 1.4219 - categorical_accuracy: 0.4137 - val_loss: 1.4373 - val_categorical_accuracy: 0.4184\n",
            "Epoch 8/100\n",
            "4530/4530 [==============================] - 2s 407us/step - loss: 1.4186 - categorical_accuracy: 0.4137 - val_loss: 1.4348 - val_categorical_accuracy: 0.4184\n",
            "Epoch 9/100\n",
            "4530/4530 [==============================] - 2s 396us/step - loss: 1.4162 - categorical_accuracy: 0.4137 - val_loss: 1.4332 - val_categorical_accuracy: 0.4184\n",
            "Epoch 10/100\n",
            "4530/4530 [==============================] - 2s 399us/step - loss: 1.4141 - categorical_accuracy: 0.4137 - val_loss: 1.4322 - val_categorical_accuracy: 0.4184\n",
            "Epoch 11/100\n",
            "4530/4530 [==============================] - 2s 384us/step - loss: 1.4129 - categorical_accuracy: 0.4137 - val_loss: 1.4307 - val_categorical_accuracy: 0.4184\n",
            "Epoch 12/100\n",
            "4530/4530 [==============================] - 2s 398us/step - loss: 1.4117 - categorical_accuracy: 0.4137 - val_loss: 1.4298 - val_categorical_accuracy: 0.4184\n",
            "Epoch 13/100\n",
            "4530/4530 [==============================] - 2s 390us/step - loss: 1.4107 - categorical_accuracy: 0.4137 - val_loss: 1.4289 - val_categorical_accuracy: 0.4184\n",
            "Epoch 14/100\n",
            "4530/4530 [==============================] - 2s 387us/step - loss: 1.4101 - categorical_accuracy: 0.4137 - val_loss: 1.4286 - val_categorical_accuracy: 0.4184\n",
            "Epoch 15/100\n",
            "4530/4530 [==============================] - 2s 390us/step - loss: 1.4093 - categorical_accuracy: 0.4137 - val_loss: 1.4282 - val_categorical_accuracy: 0.4184\n",
            "Epoch 16/100\n",
            "4530/4530 [==============================] - 2s 393us/step - loss: 1.4087 - categorical_accuracy: 0.4137 - val_loss: 1.4281 - val_categorical_accuracy: 0.4184\n",
            "Epoch 17/100\n",
            "4530/4530 [==============================] - 2s 395us/step - loss: 1.4087 - categorical_accuracy: 0.4137 - val_loss: 1.4267 - val_categorical_accuracy: 0.4184\n",
            "Epoch 18/100\n",
            "4530/4530 [==============================] - 2s 395us/step - loss: 1.4083 - categorical_accuracy: 0.4137 - val_loss: 1.4266 - val_categorical_accuracy: 0.4184\n",
            "Epoch 19/100\n",
            "4530/4530 [==============================] - 2s 397us/step - loss: 1.4078 - categorical_accuracy: 0.4137 - val_loss: 1.4269 - val_categorical_accuracy: 0.4184\n",
            "Epoch 20/100\n",
            "4530/4530 [==============================] - 2s 402us/step - loss: 1.4078 - categorical_accuracy: 0.4137 - val_loss: 1.4257 - val_categorical_accuracy: 0.4184\n",
            "Epoch 21/100\n",
            "4530/4530 [==============================] - 2s 395us/step - loss: 1.4074 - categorical_accuracy: 0.4137 - val_loss: 1.4263 - val_categorical_accuracy: 0.4184\n",
            "Epoch 22/100\n",
            "4530/4530 [==============================] - 2s 397us/step - loss: 1.4075 - categorical_accuracy: 0.4137 - val_loss: 1.4253 - val_categorical_accuracy: 0.4184\n",
            "Epoch 23/100\n",
            "4530/4530 [==============================] - 2s 410us/step - loss: 1.4072 - categorical_accuracy: 0.4137 - val_loss: 1.4251 - val_categorical_accuracy: 0.4184\n",
            "Epoch 24/100\n",
            "4530/4530 [==============================] - 2s 412us/step - loss: 1.4071 - categorical_accuracy: 0.4137 - val_loss: 1.4261 - val_categorical_accuracy: 0.4184\n",
            "Epoch 25/100\n",
            "4530/4530 [==============================] - 2s 400us/step - loss: 1.4067 - categorical_accuracy: 0.4137 - val_loss: 1.4251 - val_categorical_accuracy: 0.4184\n",
            "Epoch 26/100\n",
            "4530/4530 [==============================] - 2s 386us/step - loss: 1.4069 - categorical_accuracy: 0.4137 - val_loss: 1.4246 - val_categorical_accuracy: 0.4184\n",
            "Epoch 27/100\n",
            "4530/4530 [==============================] - 2s 417us/step - loss: 1.4069 - categorical_accuracy: 0.4137 - val_loss: 1.4246 - val_categorical_accuracy: 0.4184\n",
            "Epoch 28/100\n",
            "4530/4530 [==============================] - 2s 389us/step - loss: 1.4069 - categorical_accuracy: 0.4137 - val_loss: 1.4246 - val_categorical_accuracy: 0.4184\n",
            "Epoch 29/100\n",
            "4530/4530 [==============================] - 2s 385us/step - loss: 1.4067 - categorical_accuracy: 0.4137 - val_loss: 1.4247 - val_categorical_accuracy: 0.4184\n",
            "Epoch 30/100\n",
            "4530/4530 [==============================] - 2s 392us/step - loss: 1.4067 - categorical_accuracy: 0.4137 - val_loss: 1.4249 - val_categorical_accuracy: 0.4184\n",
            "Epoch 31/100\n",
            "4530/4530 [==============================] - 2s 381us/step - loss: 1.4063 - categorical_accuracy: 0.4137 - val_loss: 1.4260 - val_categorical_accuracy: 0.4184\n",
            "Epoch 32/100\n",
            "4530/4530 [==============================] - 2s 386us/step - loss: 1.4067 - categorical_accuracy: 0.4137 - val_loss: 1.4244 - val_categorical_accuracy: 0.4184\n",
            "Epoch 33/100\n",
            "4530/4530 [==============================] - 2s 397us/step - loss: 1.4064 - categorical_accuracy: 0.4137 - val_loss: 1.4240 - val_categorical_accuracy: 0.4184\n",
            "Epoch 34/100\n",
            "4530/4530 [==============================] - 2s 380us/step - loss: 1.4065 - categorical_accuracy: 0.4137 - val_loss: 1.4243 - val_categorical_accuracy: 0.4184\n",
            "Epoch 35/100\n",
            "4530/4530 [==============================] - 2s 401us/step - loss: 1.4065 - categorical_accuracy: 0.4137 - val_loss: 1.4238 - val_categorical_accuracy: 0.4184\n",
            "Epoch 36/100\n",
            "4530/4530 [==============================] - 2s 401us/step - loss: 1.4063 - categorical_accuracy: 0.4137 - val_loss: 1.4240 - val_categorical_accuracy: 0.4184\n",
            "Epoch 37/100\n",
            "4530/4530 [==============================] - 2s 387us/step - loss: 1.4063 - categorical_accuracy: 0.4137 - val_loss: 1.4251 - val_categorical_accuracy: 0.4184\n",
            "Epoch 38/100\n",
            "4530/4530 [==============================] - 2s 387us/step - loss: 1.4062 - categorical_accuracy: 0.4137 - val_loss: 1.4235 - val_categorical_accuracy: 0.4184\n",
            "Epoch 39/100\n",
            "4530/4530 [==============================] - 2s 387us/step - loss: 1.4064 - categorical_accuracy: 0.4137 - val_loss: 1.4237 - val_categorical_accuracy: 0.4184\n",
            "Epoch 40/100\n",
            "4530/4530 [==============================] - 2s 414us/step - loss: 1.4065 - categorical_accuracy: 0.4137 - val_loss: 1.4234 - val_categorical_accuracy: 0.4184\n",
            "Epoch 41/100\n",
            "4530/4530 [==============================] - 2s 422us/step - loss: 1.4063 - categorical_accuracy: 0.4137 - val_loss: 1.4236 - val_categorical_accuracy: 0.4184\n",
            "Epoch 42/100\n",
            "4530/4530 [==============================] - 2s 407us/step - loss: 1.4061 - categorical_accuracy: 0.4137 - val_loss: 1.4234 - val_categorical_accuracy: 0.4184\n",
            "Epoch 43/100\n",
            "4530/4530 [==============================] - 2s 414us/step - loss: 1.4065 - categorical_accuracy: 0.4137 - val_loss: 1.4236 - val_categorical_accuracy: 0.4184\n",
            "Epoch 44/100\n",
            "4530/4530 [==============================] - 2s 379us/step - loss: 1.4061 - categorical_accuracy: 0.4137 - val_loss: 1.4244 - val_categorical_accuracy: 0.4184\n",
            "Epoch 45/100\n",
            "4530/4530 [==============================] - 2s 368us/step - loss: 1.4064 - categorical_accuracy: 0.4137 - val_loss: 1.4246 - val_categorical_accuracy: 0.4184\n",
            "Epoch 46/100\n",
            "4530/4530 [==============================] - 2s 382us/step - loss: 1.4063 - categorical_accuracy: 0.4137 - val_loss: 1.4244 - val_categorical_accuracy: 0.4184\n",
            "Epoch 47/100\n",
            "4530/4530 [==============================] - 2s 380us/step - loss: 1.4065 - categorical_accuracy: 0.4137 - val_loss: 1.4239 - val_categorical_accuracy: 0.4184\n",
            "Epoch 48/100\n",
            "4530/4530 [==============================] - 2s 380us/step - loss: 1.4061 - categorical_accuracy: 0.4137 - val_loss: 1.4237 - val_categorical_accuracy: 0.4184\n",
            "Epoch 49/100\n",
            "4530/4530 [==============================] - 2s 404us/step - loss: 1.4063 - categorical_accuracy: 0.4137 - val_loss: 1.4232 - val_categorical_accuracy: 0.4184\n",
            "Epoch 50/100\n",
            "4530/4530 [==============================] - 2s 388us/step - loss: 1.4062 - categorical_accuracy: 0.4137 - val_loss: 1.4238 - val_categorical_accuracy: 0.4184\n",
            "Epoch 51/100\n",
            "4530/4530 [==============================] - 2s 386us/step - loss: 1.4064 - categorical_accuracy: 0.4137 - val_loss: 1.4237 - val_categorical_accuracy: 0.4184\n",
            "Epoch 52/100\n",
            "4530/4530 [==============================] - 2s 394us/step - loss: 1.4065 - categorical_accuracy: 0.4137 - val_loss: 1.4240 - val_categorical_accuracy: 0.4184\n",
            "Epoch 53/100\n",
            "4530/4530 [==============================] - 2s 393us/step - loss: 1.4060 - categorical_accuracy: 0.4137 - val_loss: 1.4244 - val_categorical_accuracy: 0.4184\n",
            "Epoch 54/100\n",
            "4530/4530 [==============================] - 2s 393us/step - loss: 1.4062 - categorical_accuracy: 0.4137 - val_loss: 1.4234 - val_categorical_accuracy: 0.4184\n",
            "Epoch 55/100\n",
            "4530/4530 [==============================] - 2s 397us/step - loss: 1.4063 - categorical_accuracy: 0.4137 - val_loss: 1.4240 - val_categorical_accuracy: 0.4184\n",
            "Epoch 56/100\n",
            "4530/4530 [==============================] - 2s 408us/step - loss: 1.4065 - categorical_accuracy: 0.4137 - val_loss: 1.4240 - val_categorical_accuracy: 0.4184\n",
            "Epoch 57/100\n",
            "4530/4530 [==============================] - 2s 383us/step - loss: 1.4063 - categorical_accuracy: 0.4137 - val_loss: 1.4234 - val_categorical_accuracy: 0.4184\n",
            "Epoch 58/100\n",
            "4530/4530 [==============================] - 2s 398us/step - loss: 1.4062 - categorical_accuracy: 0.4137 - val_loss: 1.4237 - val_categorical_accuracy: 0.4184\n",
            "Epoch 59/100\n",
            "4530/4530 [==============================] - 2s 396us/step - loss: 1.4061 - categorical_accuracy: 0.4137 - val_loss: 1.4242 - val_categorical_accuracy: 0.4184\n",
            "Epoch 60/100\n",
            "4530/4530 [==============================] - 2s 400us/step - loss: 1.4062 - categorical_accuracy: 0.4137 - val_loss: 1.4248 - val_categorical_accuracy: 0.4184\n",
            "Epoch 61/100\n",
            "4530/4530 [==============================] - 2s 407us/step - loss: 1.4064 - categorical_accuracy: 0.4137 - val_loss: 1.4254 - val_categorical_accuracy: 0.4184\n",
            "Epoch 62/100\n",
            "4530/4530 [==============================] - 2s 385us/step - loss: 1.4066 - categorical_accuracy: 0.4137 - val_loss: 1.4237 - val_categorical_accuracy: 0.4184\n",
            "Epoch 63/100\n",
            "4530/4530 [==============================] - 2s 388us/step - loss: 1.4065 - categorical_accuracy: 0.4137 - val_loss: 1.4232 - val_categorical_accuracy: 0.4184\n",
            "Epoch 64/100\n",
            "4530/4530 [==============================] - 2s 389us/step - loss: 1.4062 - categorical_accuracy: 0.4137 - val_loss: 1.4246 - val_categorical_accuracy: 0.4184\n",
            "Epoch 65/100\n",
            "4530/4530 [==============================] - 2s 381us/step - loss: 1.4062 - categorical_accuracy: 0.4137 - val_loss: 1.4244 - val_categorical_accuracy: 0.4184\n",
            "Epoch 66/100\n",
            "4530/4530 [==============================] - 2s 418us/step - loss: 1.4065 - categorical_accuracy: 0.4137 - val_loss: 1.4239 - val_categorical_accuracy: 0.4184\n",
            "Epoch 67/100\n",
            "4530/4530 [==============================] - 2s 402us/step - loss: 1.4059 - categorical_accuracy: 0.4137 - val_loss: 1.4235 - val_categorical_accuracy: 0.4184\n",
            "Epoch 68/100\n",
            "4530/4530 [==============================] - 2s 400us/step - loss: 1.4063 - categorical_accuracy: 0.4137 - val_loss: 1.4231 - val_categorical_accuracy: 0.4184\n",
            "Epoch 69/100\n",
            "4530/4530 [==============================] - 2s 404us/step - loss: 1.4063 - categorical_accuracy: 0.4137 - val_loss: 1.4236 - val_categorical_accuracy: 0.4184\n",
            "Epoch 70/100\n",
            "4530/4530 [==============================] - 2s 410us/step - loss: 1.4064 - categorical_accuracy: 0.4137 - val_loss: 1.4242 - val_categorical_accuracy: 0.4184\n",
            "Epoch 71/100\n",
            "4530/4530 [==============================] - 2s 386us/step - loss: 1.4064 - categorical_accuracy: 0.4137 - val_loss: 1.4230 - val_categorical_accuracy: 0.4184\n",
            "Epoch 72/100\n",
            "4530/4530 [==============================] - 2s 381us/step - loss: 1.4059 - categorical_accuracy: 0.4137 - val_loss: 1.4265 - val_categorical_accuracy: 0.4184\n",
            "Epoch 73/100\n",
            "4530/4530 [==============================] - 2s 411us/step - loss: 1.4068 - categorical_accuracy: 0.4137 - val_loss: 1.4234 - val_categorical_accuracy: 0.4184\n",
            "Epoch 74/100\n",
            "4530/4530 [==============================] - 2s 402us/step - loss: 1.4060 - categorical_accuracy: 0.4137 - val_loss: 1.4249 - val_categorical_accuracy: 0.4184\n",
            "Epoch 75/100\n",
            "4530/4530 [==============================] - 2s 422us/step - loss: 1.4065 - categorical_accuracy: 0.4137 - val_loss: 1.4242 - val_categorical_accuracy: 0.4184\n",
            "Epoch 76/100\n",
            "4530/4530 [==============================] - 2s 407us/step - loss: 1.4066 - categorical_accuracy: 0.4137 - val_loss: 1.4231 - val_categorical_accuracy: 0.4184\n",
            "Epoch 77/100\n",
            "4530/4530 [==============================] - 2s 389us/step - loss: 1.4060 - categorical_accuracy: 0.4137 - val_loss: 1.4254 - val_categorical_accuracy: 0.4184\n",
            "Epoch 78/100\n",
            "4530/4530 [==============================] - 2s 382us/step - loss: 1.4063 - categorical_accuracy: 0.4137 - val_loss: 1.4233 - val_categorical_accuracy: 0.4184\n",
            "Epoch 79/100\n",
            "4530/4530 [==============================] - 2s 397us/step - loss: 1.4065 - categorical_accuracy: 0.4137 - val_loss: 1.4232 - val_categorical_accuracy: 0.4184\n",
            "Epoch 80/100\n",
            "4530/4530 [==============================] - 2s 384us/step - loss: 1.4065 - categorical_accuracy: 0.4137 - val_loss: 1.4237 - val_categorical_accuracy: 0.4184\n",
            "Epoch 81/100\n",
            "4530/4530 [==============================] - 2s 379us/step - loss: 1.4064 - categorical_accuracy: 0.4137 - val_loss: 1.4238 - val_categorical_accuracy: 0.4184\n",
            "Epoch 82/100\n",
            "4530/4530 [==============================] - 2s 395us/step - loss: 1.4063 - categorical_accuracy: 0.4137 - val_loss: 1.4238 - val_categorical_accuracy: 0.4184\n",
            "Epoch 83/100\n",
            "4530/4530 [==============================] - 2s 389us/step - loss: 1.4068 - categorical_accuracy: 0.4137 - val_loss: 1.4234 - val_categorical_accuracy: 0.4184\n",
            "Epoch 84/100\n",
            "4530/4530 [==============================] - 2s 401us/step - loss: 1.4063 - categorical_accuracy: 0.4137 - val_loss: 1.4241 - val_categorical_accuracy: 0.4184\n",
            "Epoch 85/100\n",
            "4530/4530 [==============================] - 2s 390us/step - loss: 1.4067 - categorical_accuracy: 0.4137 - val_loss: 1.4235 - val_categorical_accuracy: 0.4184\n",
            "Epoch 86/100\n",
            "4530/4530 [==============================] - 2s 391us/step - loss: 1.4057 - categorical_accuracy: 0.4137 - val_loss: 1.4266 - val_categorical_accuracy: 0.4184\n",
            "Epoch 87/100\n",
            "4530/4530 [==============================] - 2s 390us/step - loss: 1.4070 - categorical_accuracy: 0.4137 - val_loss: 1.4232 - val_categorical_accuracy: 0.4184\n",
            "Epoch 88/100\n",
            "4530/4530 [==============================] - 2s 376us/step - loss: 1.4067 - categorical_accuracy: 0.4137 - val_loss: 1.4241 - val_categorical_accuracy: 0.4184\n",
            "Epoch 89/100\n",
            "4530/4530 [==============================] - 2s 402us/step - loss: 1.4068 - categorical_accuracy: 0.4137 - val_loss: 1.4237 - val_categorical_accuracy: 0.4184\n",
            "Epoch 90/100\n",
            "4530/4530 [==============================] - 2s 400us/step - loss: 1.4066 - categorical_accuracy: 0.4137 - val_loss: 1.4230 - val_categorical_accuracy: 0.4184\n",
            "Epoch 91/100\n",
            "4530/4530 [==============================] - 2s 391us/step - loss: 1.4064 - categorical_accuracy: 0.4137 - val_loss: 1.4231 - val_categorical_accuracy: 0.4184\n",
            "Epoch 92/100\n",
            "4530/4530 [==============================] - 2s 377us/step - loss: 1.4064 - categorical_accuracy: 0.4137 - val_loss: 1.4241 - val_categorical_accuracy: 0.4184\n",
            "Epoch 93/100\n",
            "4530/4530 [==============================] - 2s 375us/step - loss: 1.4065 - categorical_accuracy: 0.4137 - val_loss: 1.4240 - val_categorical_accuracy: 0.4184\n",
            "Epoch 94/100\n",
            "4530/4530 [==============================] - 2s 395us/step - loss: 1.4065 - categorical_accuracy: 0.4137 - val_loss: 1.4237 - val_categorical_accuracy: 0.4184\n",
            "Epoch 95/100\n",
            "4530/4530 [==============================] - 2s 384us/step - loss: 1.4065 - categorical_accuracy: 0.4137 - val_loss: 1.4249 - val_categorical_accuracy: 0.4184\n",
            "Epoch 96/100\n",
            "4530/4530 [==============================] - 2s 376us/step - loss: 1.4063 - categorical_accuracy: 0.4137 - val_loss: 1.4230 - val_categorical_accuracy: 0.4184\n",
            "Epoch 97/100\n",
            "4530/4530 [==============================] - 2s 385us/step - loss: 1.4066 - categorical_accuracy: 0.4137 - val_loss: 1.4232 - val_categorical_accuracy: 0.4184\n",
            "Epoch 98/100\n",
            "4530/4530 [==============================] - 2s 377us/step - loss: 1.4065 - categorical_accuracy: 0.4137 - val_loss: 1.4239 - val_categorical_accuracy: 0.4184\n",
            "Epoch 99/100\n",
            "4530/4530 [==============================] - 2s 380us/step - loss: 1.4068 - categorical_accuracy: 0.4137 - val_loss: 1.4233 - val_categorical_accuracy: 0.4184\n",
            "Epoch 100/100\n",
            "4530/4530 [==============================] - 2s 399us/step - loss: 1.4069 - categorical_accuracy: 0.4137 - val_loss: 1.4239 - val_categorical_accuracy: 0.4184\n"
          ],
          "name": "stdout"
        }
      ]
    },
    {
      "cell_type": "code",
      "metadata": {
        "id": "Bpm_sl7V8kWC",
        "colab_type": "code",
        "colab": {}
      },
      "source": [
        "y_pred_class_nn_1 = model.predict_classes(x_test)\n",
        "y_pred_prob_nn_1 = model.predict(x_test)"
      ],
      "execution_count": 0,
      "outputs": []
    },
    {
      "cell_type": "code",
      "metadata": {
        "id": "6SgOywft9Fv-",
        "colab_type": "code",
        "outputId": "bba7f7c6-511c-40f2-8d13-948b3671c2d0",
        "colab": {
          "base_uri": "https://localhost:8080/",
          "height": 36
        }
      },
      "source": [
        "y_pred_class_nn_1[:]"
      ],
      "execution_count": 24,
      "outputs": [
        {
          "output_type": "execute_result",
          "data": {
            "text/plain": [
              "array([6, 6, 6, ..., 6, 6, 6])"
            ]
          },
          "metadata": {
            "tags": []
          },
          "execution_count": 24
        }
      ]
    },
    {
      "cell_type": "code",
      "metadata": {
        "id": "RGzbRIZ69mx_",
        "colab_type": "code",
        "outputId": "ce7acd59-7eb9-4a16-9acf-fceda3cd5d84",
        "colab": {
          "base_uri": "https://localhost:8080/",
          "height": 259
        }
      },
      "source": [
        "y_pred_prob_nn_1[:]"
      ],
      "execution_count": 25,
      "outputs": [
        {
          "output_type": "execute_result",
          "data": {
            "text/plain": [
              "array([[0.03660822, 0.18940303, 0.00100671, ..., 0.4048084 , 0.02245315,\n",
              "        0.3028704 ],\n",
              "       [0.03660822, 0.18940303, 0.00100671, ..., 0.4048084 , 0.02245315,\n",
              "        0.3028704 ],\n",
              "       [0.03660822, 0.18940303, 0.00100671, ..., 0.4048084 , 0.02245315,\n",
              "        0.3028704 ],\n",
              "       ...,\n",
              "       [0.03660822, 0.18940303, 0.00100671, ..., 0.4048084 , 0.02245315,\n",
              "        0.3028704 ],\n",
              "       [0.03660822, 0.18940303, 0.00100671, ..., 0.4048084 , 0.02245315,\n",
              "        0.3028704 ],\n",
              "       [0.03660822, 0.18940301, 0.00100671, ..., 0.40480837, 0.02245315,\n",
              "        0.30287042]], dtype=float32)"
            ]
          },
          "metadata": {
            "tags": []
          },
          "execution_count": 25
        }
      ]
    },
    {
      "cell_type": "code",
      "metadata": {
        "id": "u516pKgl9q0F",
        "colab_type": "code",
        "outputId": "45376e12-c9f5-4abe-de87-eab4eb56b922",
        "colab": {
          "base_uri": "https://localhost:8080/",
          "height": 1000
        }
      },
      "source": [
        "from keras.utils import plot_model\n",
        "plot_model(model, to_file='model.png')"
      ],
      "execution_count": 26,
      "outputs": [
        {
          "output_type": "execute_result",
          "data": {
            "image/png": "[encoded data removed]",
            "text/plain": [
              "<IPython.core.display.Image object>"
            ]
          },
          "metadata": {
            "tags": []
          },
          "execution_count": 26
        }
      ]
    },
    {
      "cell_type": "code",
      "metadata": {
        "id": "ySwzKDfw9xoD",
        "colab_type": "code",
        "outputId": "c8c434a8-94de-4483-be2e-4d77a2ced25c",
        "colab": {
          "base_uri": "https://localhost:8080/",
          "height": 573
        }
      },
      "source": [
        "plt.plot(history.history['categorical_accuracy'])\n",
        "plt.plot(history.history['val_categorical_accuracy'])\n",
        "plt.title('Model Accuracy')\n",
        "plt.ylabel('Accuracy')\n",
        "plt.xlabel('Epoch')\n",
        "plt.legend(['Train', 'Test'], loc='upper left')\n",
        "plt.show()\n",
        "\n",
        "# Plot training & validation loss values\n",
        "plt.plot(history.history['loss'])\n",
        "plt.plot(history.history['val_loss'])\n",
        "plt.title('Model loss')\n",
        "plt.ylabel('Loss')\n",
        "plt.xlabel('Epoch')\n",
        "plt.legend(['Train', 'Test'], loc='upper left')\n",
        "plt.show()"
      ],
      "execution_count": 27,
      "outputs": [
        {
          "output_type": "display_data",
          "data": {
            "image/png": "[encoded data removed]",
            "text/plain": [
              "<Figure size 432x288 with 1 Axes>"
            ]
          },
          "metadata": {
            "tags": []
          }
        },
        {
          "output_type": "display_data",
          "data": {
            "image/png": "[encoded data removed]",
            "text/plain": [
              "<Figure size 432x288 with 1 Axes>"
            ]
          },
          "metadata": {
            "tags": []
          }
        }
      ]
    },
    {
      "cell_type": "markdown",
      "metadata": {
        "id": "_krBBUN2C36P",
        "colab_type": "text"
      },
      "source": [
        "REGULARISED MODEL"
      ]
    },
    {
      "cell_type": "code",
      "metadata": {
        "id": "68ZaTHQG-16_",
        "colab_type": "code",
        "colab": {}
      },
      "source": [
        "model1= Sequential()"
      ],
      "execution_count": 0,
      "outputs": []
    },
    {
      "cell_type": "code",
      "metadata": {
        "id": "NW8lp3-LCS2G",
        "colab_type": "code",
        "outputId": "edb6d4a9-350a-4eaf-cf2a-1a624a4e0ad3",
        "colab": {
          "base_uri": "https://localhost:8080/",
          "height": 130
        }
      },
      "source": [
        "model1.add(layers.Dense(units = 9, kernel_initializer = 'uniform', activation = 'relu', input_dim = 9))\n",
        "model1.add(Dropout(0.25))\n",
        "# Adding the second hidden layer\n",
        "model1.add(Dense(units = 8, kernel_initializer = 'uniform', activation = 'relu'))\n",
        "model1.add(Dropout(0.25))\n",
        "model1.add(Dense(units = 16, kernel_initializer = 'uniform', activation = 'relu'))\n",
        "model1.add(Dropout(0.25))\n",
        "model1.add(Dense(units = 32, kernel_initializer = 'uniform', activation = 'relu'))\n",
        "model1.add(Dropout(0.25))\n",
        "model1.add(Dense(units = 32, kernel_initializer = 'uniform', activation = 'relu'))\n",
        "model1.add(Dropout(0.25))\n",
        "model1.add(Dense(units = 16, kernel_initializer = 'uniform', activation = 'relu'))\n",
        "model1.add(Dropout(0.25))\n",
        "\n",
        "# Adding the output layer\n",
        "model1.add(Dense(units = 9, kernel_initializer = 'uniform', activation = 'softmax'))\n",
        "\n",
        "# Compiling the ANN\n",
        "model1.compile(optimizer = 'adam', loss = 'categorical_crossentropy', metrics = [metrics.categorical_accuracy])"
      ],
      "execution_count": 29,
      "outputs": [
        {
          "output_type": "stream",
          "text": [
            "WARNING:tensorflow:From /usr/local/lib/python3.6/dist-packages/keras/backend/tensorflow_backend.py:148: The name tf.placeholder_with_default is deprecated. Please use tf.compat.v1.placeholder_with_default instead.\n",
            "\n",
            "WARNING:tensorflow:From /usr/local/lib/python3.6/dist-packages/keras/backend/tensorflow_backend.py:3733: calling dropout (from tensorflow.python.ops.nn_ops) with keep_prob is deprecated and will be removed in a future version.\n",
            "Instructions for updating:\n",
            "Please use `rate` instead of `keep_prob`. Rate should be set to `rate = 1 - keep_prob`.\n"
          ],
          "name": "stdout"
        }
      ]
    },
    {
      "cell_type": "code",
      "metadata": {
        "id": "gdb6HkDBC8UK",
        "colab_type": "code",
        "outputId": "90fe45cc-3668-4a21-8860-9f08f167c0b2",
        "colab": {
          "base_uri": "https://localhost:8080/",
          "height": 1000
        }
      },
      "source": [
        "history1 = model1.fit(x_train, y_train, validation_data=(x_test, y_test), batch_size = 10, epochs = 100)"
      ],
      "execution_count": 30,
      "outputs": [
        {
          "output_type": "stream",
          "text": [
            "Train on 4530 samples, validate on 1133 samples\n",
            "Epoch 1/100\n",
            "4530/4530 [==============================] - 1s 306us/step - loss: 2.3356 - categorical_accuracy: 0.3611 - val_loss: 1.4960 - val_categorical_accuracy: 0.4184\n",
            "Epoch 2/100\n",
            "4530/4530 [==============================] - 1s 176us/step - loss: 1.5336 - categorical_accuracy: 0.4086 - val_loss: 1.5142 - val_categorical_accuracy: 0.4184\n",
            "Epoch 3/100\n",
            "4530/4530 [==============================] - 1s 178us/step - loss: 1.5011 - categorical_accuracy: 0.4088 - val_loss: 1.5114 - val_categorical_accuracy: 0.4184\n",
            "Epoch 4/100\n",
            "4530/4530 [==============================] - 1s 184us/step - loss: 1.4687 - categorical_accuracy: 0.4121 - val_loss: 1.4443 - val_categorical_accuracy: 0.4184\n",
            "Epoch 5/100\n",
            "4530/4530 [==============================] - 1s 183us/step - loss: 1.4539 - categorical_accuracy: 0.4135 - val_loss: 1.4296 - val_categorical_accuracy: 0.4184\n",
            "Epoch 6/100\n",
            "4530/4530 [==============================] - 1s 180us/step - loss: 1.4254 - categorical_accuracy: 0.4135 - val_loss: 1.4247 - val_categorical_accuracy: 0.4184\n",
            "Epoch 7/100\n",
            "4530/4530 [==============================] - 1s 184us/step - loss: 1.4115 - categorical_accuracy: 0.4137 - val_loss: 1.4240 - val_categorical_accuracy: 0.4184\n",
            "Epoch 8/100\n",
            "4530/4530 [==============================] - 1s 193us/step - loss: 1.4142 - categorical_accuracy: 0.4137 - val_loss: 1.4231 - val_categorical_accuracy: 0.4184\n",
            "Epoch 9/100\n",
            "4530/4530 [==============================] - 1s 190us/step - loss: 1.4111 - categorical_accuracy: 0.4137 - val_loss: 1.4228 - val_categorical_accuracy: 0.4184\n",
            "Epoch 10/100\n",
            "4530/4530 [==============================] - 1s 186us/step - loss: 1.4125 - categorical_accuracy: 0.4137 - val_loss: 1.4242 - val_categorical_accuracy: 0.4184\n",
            "Epoch 11/100\n",
            "4530/4530 [==============================] - 1s 192us/step - loss: 1.4106 - categorical_accuracy: 0.4137 - val_loss: 1.4230 - val_categorical_accuracy: 0.4184\n",
            "Epoch 12/100\n",
            "4530/4530 [==============================] - 1s 194us/step - loss: 1.4129 - categorical_accuracy: 0.4137 - val_loss: 1.4245 - val_categorical_accuracy: 0.4184\n",
            "Epoch 13/100\n",
            "4530/4530 [==============================] - 1s 195us/step - loss: 1.4113 - categorical_accuracy: 0.4137 - val_loss: 1.4243 - val_categorical_accuracy: 0.4184\n",
            "Epoch 14/100\n",
            "4530/4530 [==============================] - 1s 188us/step - loss: 1.4109 - categorical_accuracy: 0.4137 - val_loss: 1.4244 - val_categorical_accuracy: 0.4184\n",
            "Epoch 15/100\n",
            "4530/4530 [==============================] - 1s 181us/step - loss: 1.4119 - categorical_accuracy: 0.4137 - val_loss: 1.4231 - val_categorical_accuracy: 0.4184\n",
            "Epoch 16/100\n",
            "4530/4530 [==============================] - 1s 182us/step - loss: 1.4113 - categorical_accuracy: 0.4137 - val_loss: 1.4230 - val_categorical_accuracy: 0.4184\n",
            "Epoch 17/100\n",
            "4530/4530 [==============================] - 1s 177us/step - loss: 1.4114 - categorical_accuracy: 0.4137 - val_loss: 1.4229 - val_categorical_accuracy: 0.4184\n",
            "Epoch 18/100\n",
            "4530/4530 [==============================] - 1s 187us/step - loss: 1.4111 - categorical_accuracy: 0.4137 - val_loss: 1.4243 - val_categorical_accuracy: 0.4184\n",
            "Epoch 19/100\n",
            "4530/4530 [==============================] - 1s 202us/step - loss: 1.4108 - categorical_accuracy: 0.4137 - val_loss: 1.4254 - val_categorical_accuracy: 0.4184\n",
            "Epoch 20/100\n",
            "4530/4530 [==============================] - 1s 204us/step - loss: 1.4093 - categorical_accuracy: 0.4137 - val_loss: 1.4234 - val_categorical_accuracy: 0.4184\n",
            "Epoch 21/100\n",
            "4530/4530 [==============================] - 1s 194us/step - loss: 1.4108 - categorical_accuracy: 0.4137 - val_loss: 1.4249 - val_categorical_accuracy: 0.4184\n",
            "Epoch 22/100\n",
            "4530/4530 [==============================] - 1s 192us/step - loss: 1.4085 - categorical_accuracy: 0.4137 - val_loss: 1.4235 - val_categorical_accuracy: 0.4184\n",
            "Epoch 23/100\n",
            "4530/4530 [==============================] - 1s 195us/step - loss: 1.4122 - categorical_accuracy: 0.4137 - val_loss: 1.4242 - val_categorical_accuracy: 0.4184\n",
            "Epoch 24/100\n",
            "4530/4530 [==============================] - 1s 195us/step - loss: 1.4104 - categorical_accuracy: 0.4137 - val_loss: 1.4230 - val_categorical_accuracy: 0.4184\n",
            "Epoch 25/100\n",
            "4530/4530 [==============================] - 1s 192us/step - loss: 1.4085 - categorical_accuracy: 0.4137 - val_loss: 1.4221 - val_categorical_accuracy: 0.4184\n",
            "Epoch 26/100\n",
            "4530/4530 [==============================] - 1s 183us/step - loss: 1.4093 - categorical_accuracy: 0.4137 - val_loss: 1.4243 - val_categorical_accuracy: 0.4184\n",
            "Epoch 27/100\n",
            "4530/4530 [==============================] - 1s 195us/step - loss: 1.4103 - categorical_accuracy: 0.4137 - val_loss: 1.4231 - val_categorical_accuracy: 0.4184\n",
            "Epoch 28/100\n",
            "4530/4530 [==============================] - 1s 193us/step - loss: 1.4085 - categorical_accuracy: 0.4137 - val_loss: 1.4261 - val_categorical_accuracy: 0.4184\n",
            "Epoch 29/100\n",
            "4530/4530 [==============================] - 1s 195us/step - loss: 1.4090 - categorical_accuracy: 0.4137 - val_loss: 1.4233 - val_categorical_accuracy: 0.4184\n",
            "Epoch 30/100\n",
            "4530/4530 [==============================] - 1s 187us/step - loss: 1.4101 - categorical_accuracy: 0.4137 - val_loss: 1.4238 - val_categorical_accuracy: 0.4184\n",
            "Epoch 31/100\n",
            "4530/4530 [==============================] - 1s 179us/step - loss: 1.4108 - categorical_accuracy: 0.4137 - val_loss: 1.4235 - val_categorical_accuracy: 0.4184\n",
            "Epoch 32/100\n",
            "4530/4530 [==============================] - 1s 180us/step - loss: 1.4091 - categorical_accuracy: 0.4137 - val_loss: 1.4257 - val_categorical_accuracy: 0.4184\n",
            "Epoch 33/100\n",
            "4530/4530 [==============================] - 1s 182us/step - loss: 1.4103 - categorical_accuracy: 0.4137 - val_loss: 1.4267 - val_categorical_accuracy: 0.4184\n",
            "Epoch 34/100\n",
            "4530/4530 [==============================] - 1s 184us/step - loss: 1.4101 - categorical_accuracy: 0.4137 - val_loss: 1.4226 - val_categorical_accuracy: 0.4184\n",
            "Epoch 35/100\n",
            "4530/4530 [==============================] - 1s 184us/step - loss: 1.4104 - categorical_accuracy: 0.4137 - val_loss: 1.4254 - val_categorical_accuracy: 0.4184\n",
            "Epoch 36/100\n",
            "4530/4530 [==============================] - 1s 182us/step - loss: 1.4089 - categorical_accuracy: 0.4137 - val_loss: 1.4233 - val_categorical_accuracy: 0.4184\n",
            "Epoch 37/100\n",
            "4530/4530 [==============================] - 1s 181us/step - loss: 1.4085 - categorical_accuracy: 0.4137 - val_loss: 1.4230 - val_categorical_accuracy: 0.4184\n",
            "Epoch 38/100\n",
            "4530/4530 [==============================] - 1s 176us/step - loss: 1.4078 - categorical_accuracy: 0.4137 - val_loss: 1.4239 - val_categorical_accuracy: 0.4184\n",
            "Epoch 39/100\n",
            "4530/4530 [==============================] - 1s 177us/step - loss: 1.4092 - categorical_accuracy: 0.4137 - val_loss: 1.4220 - val_categorical_accuracy: 0.4184\n",
            "Epoch 40/100\n",
            "4530/4530 [==============================] - 1s 189us/step - loss: 1.4087 - categorical_accuracy: 0.4137 - val_loss: 1.4228 - val_categorical_accuracy: 0.4184\n",
            "Epoch 41/100\n",
            "4530/4530 [==============================] - 1s 184us/step - loss: 1.4091 - categorical_accuracy: 0.4137 - val_loss: 1.4227 - val_categorical_accuracy: 0.4184\n",
            "Epoch 42/100\n",
            "4530/4530 [==============================] - 1s 188us/step - loss: 1.4076 - categorical_accuracy: 0.4137 - val_loss: 1.4257 - val_categorical_accuracy: 0.4184\n",
            "Epoch 43/100\n",
            "4530/4530 [==============================] - 1s 176us/step - loss: 1.4084 - categorical_accuracy: 0.4137 - val_loss: 1.4262 - val_categorical_accuracy: 0.4184\n",
            "Epoch 44/100\n",
            "4530/4530 [==============================] - 1s 176us/step - loss: 1.4085 - categorical_accuracy: 0.4137 - val_loss: 1.4235 - val_categorical_accuracy: 0.4184\n",
            "Epoch 45/100\n",
            "4530/4530 [==============================] - 1s 186us/step - loss: 1.4089 - categorical_accuracy: 0.4137 - val_loss: 1.4231 - val_categorical_accuracy: 0.4184\n",
            "Epoch 46/100\n",
            "4530/4530 [==============================] - 1s 188us/step - loss: 1.4095 - categorical_accuracy: 0.4137 - val_loss: 1.4239 - val_categorical_accuracy: 0.4184\n",
            "Epoch 47/100\n",
            "4530/4530 [==============================] - 1s 181us/step - loss: 1.4082 - categorical_accuracy: 0.4139 - val_loss: 1.4252 - val_categorical_accuracy: 0.4184\n",
            "Epoch 48/100\n",
            "4530/4530 [==============================] - 1s 186us/step - loss: 1.4093 - categorical_accuracy: 0.4137 - val_loss: 1.4219 - val_categorical_accuracy: 0.4184\n",
            "Epoch 49/100\n",
            "4530/4530 [==============================] - 1s 191us/step - loss: 1.4093 - categorical_accuracy: 0.4137 - val_loss: 1.4230 - val_categorical_accuracy: 0.4184\n",
            "Epoch 50/100\n",
            "4530/4530 [==============================] - 1s 182us/step - loss: 1.4094 - categorical_accuracy: 0.4137 - val_loss: 1.4227 - val_categorical_accuracy: 0.4184\n",
            "Epoch 51/100\n",
            "4530/4530 [==============================] - 1s 180us/step - loss: 1.4081 - categorical_accuracy: 0.4137 - val_loss: 1.4234 - val_categorical_accuracy: 0.4184\n",
            "Epoch 52/100\n",
            "4530/4530 [==============================] - 1s 182us/step - loss: 1.4081 - categorical_accuracy: 0.4137 - val_loss: 1.4219 - val_categorical_accuracy: 0.4184\n",
            "Epoch 53/100\n",
            "4530/4530 [==============================] - 1s 181us/step - loss: 1.4092 - categorical_accuracy: 0.4137 - val_loss: 1.4227 - val_categorical_accuracy: 0.4184\n",
            "Epoch 54/100\n",
            "4530/4530 [==============================] - 1s 180us/step - loss: 1.4083 - categorical_accuracy: 0.4137 - val_loss: 1.4243 - val_categorical_accuracy: 0.4184\n",
            "Epoch 55/100\n",
            "4530/4530 [==============================] - 1s 186us/step - loss: 1.4090 - categorical_accuracy: 0.4137 - val_loss: 1.4230 - val_categorical_accuracy: 0.4184\n",
            "Epoch 56/100\n",
            "4530/4530 [==============================] - 1s 191us/step - loss: 1.4074 - categorical_accuracy: 0.4137 - val_loss: 1.4232 - val_categorical_accuracy: 0.4184\n",
            "Epoch 57/100\n",
            "4530/4530 [==============================] - 1s 197us/step - loss: 1.4092 - categorical_accuracy: 0.4137 - val_loss: 1.4227 - val_categorical_accuracy: 0.4184\n",
            "Epoch 58/100\n",
            "4530/4530 [==============================] - 1s 190us/step - loss: 1.4087 - categorical_accuracy: 0.4137 - val_loss: 1.4223 - val_categorical_accuracy: 0.4184\n",
            "Epoch 59/100\n",
            "4530/4530 [==============================] - 1s 195us/step - loss: 1.4079 - categorical_accuracy: 0.4137 - val_loss: 1.4265 - val_categorical_accuracy: 0.4184\n",
            "Epoch 60/100\n",
            "4530/4530 [==============================] - 1s 188us/step - loss: 1.4073 - categorical_accuracy: 0.4137 - val_loss: 1.4241 - val_categorical_accuracy: 0.4184\n",
            "Epoch 61/100\n",
            "4530/4530 [==============================] - 1s 191us/step - loss: 1.4097 - categorical_accuracy: 0.4137 - val_loss: 1.4235 - val_categorical_accuracy: 0.4184\n",
            "Epoch 62/100\n",
            "4530/4530 [==============================] - 1s 190us/step - loss: 1.4058 - categorical_accuracy: 0.4137 - val_loss: 1.4265 - val_categorical_accuracy: 0.4184\n",
            "Epoch 63/100\n",
            "4530/4530 [==============================] - 1s 191us/step - loss: 1.4067 - categorical_accuracy: 0.4137 - val_loss: 1.4263 - val_categorical_accuracy: 0.4184\n",
            "Epoch 64/100\n",
            "4530/4530 [==============================] - 1s 182us/step - loss: 1.4067 - categorical_accuracy: 0.4137 - val_loss: 1.4228 - val_categorical_accuracy: 0.4184\n",
            "Epoch 65/100\n",
            "4530/4530 [==============================] - 1s 181us/step - loss: 1.4083 - categorical_accuracy: 0.4137 - val_loss: 1.4234 - val_categorical_accuracy: 0.4184\n",
            "Epoch 66/100\n",
            "4530/4530 [==============================] - 1s 180us/step - loss: 1.4067 - categorical_accuracy: 0.4137 - val_loss: 1.4236 - val_categorical_accuracy: 0.4184\n",
            "Epoch 67/100\n",
            "4530/4530 [==============================] - 1s 179us/step - loss: 1.4073 - categorical_accuracy: 0.4137 - val_loss: 1.4248 - val_categorical_accuracy: 0.4184\n",
            "Epoch 68/100\n",
            "4530/4530 [==============================] - 1s 180us/step - loss: 1.4092 - categorical_accuracy: 0.4137 - val_loss: 1.4240 - val_categorical_accuracy: 0.4184\n",
            "Epoch 69/100\n",
            "4530/4530 [==============================] - 1s 177us/step - loss: 1.4081 - categorical_accuracy: 0.4137 - val_loss: 1.4237 - val_categorical_accuracy: 0.4184\n",
            "Epoch 70/100\n",
            "4530/4530 [==============================] - 1s 186us/step - loss: 1.4078 - categorical_accuracy: 0.4137 - val_loss: 1.4238 - val_categorical_accuracy: 0.4184\n",
            "Epoch 71/100\n",
            "4530/4530 [==============================] - 1s 184us/step - loss: 1.4084 - categorical_accuracy: 0.4137 - val_loss: 1.4230 - val_categorical_accuracy: 0.4184\n",
            "Epoch 72/100\n",
            "4530/4530 [==============================] - 1s 178us/step - loss: 1.4080 - categorical_accuracy: 0.4137 - val_loss: 1.4229 - val_categorical_accuracy: 0.4184\n",
            "Epoch 73/100\n",
            "4530/4530 [==============================] - 1s 185us/step - loss: 1.4081 - categorical_accuracy: 0.4137 - val_loss: 1.4227 - val_categorical_accuracy: 0.4184\n",
            "Epoch 74/100\n",
            "4530/4530 [==============================] - 1s 184us/step - loss: 1.4087 - categorical_accuracy: 0.4137 - val_loss: 1.4231 - val_categorical_accuracy: 0.4184\n",
            "Epoch 75/100\n",
            "4530/4530 [==============================] - 1s 190us/step - loss: 1.4078 - categorical_accuracy: 0.4137 - val_loss: 1.4232 - val_categorical_accuracy: 0.4184\n",
            "Epoch 76/100\n",
            "4530/4530 [==============================] - 1s 185us/step - loss: 1.4067 - categorical_accuracy: 0.4137 - val_loss: 1.4238 - val_categorical_accuracy: 0.4184\n",
            "Epoch 77/100\n",
            "4530/4530 [==============================] - 1s 182us/step - loss: 1.4075 - categorical_accuracy: 0.4137 - val_loss: 1.4238 - val_categorical_accuracy: 0.4184\n",
            "Epoch 78/100\n",
            "4530/4530 [==============================] - 1s 189us/step - loss: 1.4075 - categorical_accuracy: 0.4137 - val_loss: 1.4230 - val_categorical_accuracy: 0.4184\n",
            "Epoch 79/100\n",
            "4530/4530 [==============================] - 1s 189us/step - loss: 1.4068 - categorical_accuracy: 0.4137 - val_loss: 1.4225 - val_categorical_accuracy: 0.4184\n",
            "Epoch 80/100\n",
            "4530/4530 [==============================] - 1s 180us/step - loss: 1.4077 - categorical_accuracy: 0.4137 - val_loss: 1.4239 - val_categorical_accuracy: 0.4184\n",
            "Epoch 81/100\n",
            "4530/4530 [==============================] - 1s 182us/step - loss: 1.4077 - categorical_accuracy: 0.4137 - val_loss: 1.4236 - val_categorical_accuracy: 0.4184\n",
            "Epoch 82/100\n",
            "4530/4530 [==============================] - 1s 190us/step - loss: 1.4070 - categorical_accuracy: 0.4137 - val_loss: 1.4239 - val_categorical_accuracy: 0.4184\n",
            "Epoch 83/100\n",
            "4530/4530 [==============================] - 1s 192us/step - loss: 1.4077 - categorical_accuracy: 0.4137 - val_loss: 1.4223 - val_categorical_accuracy: 0.4184\n",
            "Epoch 84/100\n",
            "4530/4530 [==============================] - 1s 195us/step - loss: 1.4072 - categorical_accuracy: 0.4137 - val_loss: 1.4235 - val_categorical_accuracy: 0.4184\n",
            "Epoch 85/100\n",
            "4530/4530 [==============================] - 1s 186us/step - loss: 1.4064 - categorical_accuracy: 0.4137 - val_loss: 1.4228 - val_categorical_accuracy: 0.4184\n",
            "Epoch 86/100\n",
            "4530/4530 [==============================] - 1s 181us/step - loss: 1.4084 - categorical_accuracy: 0.4137 - val_loss: 1.4220 - val_categorical_accuracy: 0.4184\n",
            "Epoch 87/100\n",
            "4530/4530 [==============================] - 1s 181us/step - loss: 1.4071 - categorical_accuracy: 0.4137 - val_loss: 1.4239 - val_categorical_accuracy: 0.4184\n",
            "Epoch 88/100\n",
            "4530/4530 [==============================] - 1s 182us/step - loss: 1.4085 - categorical_accuracy: 0.4137 - val_loss: 1.4225 - val_categorical_accuracy: 0.4184\n",
            "Epoch 89/100\n",
            "4530/4530 [==============================] - 1s 190us/step - loss: 1.4072 - categorical_accuracy: 0.4137 - val_loss: 1.4228 - val_categorical_accuracy: 0.4184\n",
            "Epoch 90/100\n",
            "4530/4530 [==============================] - 1s 197us/step - loss: 1.4066 - categorical_accuracy: 0.4137 - val_loss: 1.4235 - val_categorical_accuracy: 0.4184\n",
            "Epoch 91/100\n",
            "4530/4530 [==============================] - 1s 193us/step - loss: 1.4073 - categorical_accuracy: 0.4137 - val_loss: 1.4228 - val_categorical_accuracy: 0.4184\n",
            "Epoch 92/100\n",
            "4530/4530 [==============================] - 1s 186us/step - loss: 1.4073 - categorical_accuracy: 0.4137 - val_loss: 1.4229 - val_categorical_accuracy: 0.4184\n",
            "Epoch 93/100\n",
            "4530/4530 [==============================] - 1s 184us/step - loss: 1.4074 - categorical_accuracy: 0.4137 - val_loss: 1.4229 - val_categorical_accuracy: 0.4184\n",
            "Epoch 94/100\n",
            "4530/4530 [==============================] - 1s 186us/step - loss: 1.4077 - categorical_accuracy: 0.4137 - val_loss: 1.4221 - val_categorical_accuracy: 0.4184\n",
            "Epoch 95/100\n",
            "4530/4530 [==============================] - 1s 187us/step - loss: 1.4070 - categorical_accuracy: 0.4137 - val_loss: 1.4232 - val_categorical_accuracy: 0.4184\n",
            "Epoch 96/100\n",
            "4530/4530 [==============================] - 1s 181us/step - loss: 1.4066 - categorical_accuracy: 0.4137 - val_loss: 1.4232 - val_categorical_accuracy: 0.4184\n",
            "Epoch 97/100\n",
            "4530/4530 [==============================] - 1s 180us/step - loss: 1.4075 - categorical_accuracy: 0.4137 - val_loss: 1.4231 - val_categorical_accuracy: 0.4184\n",
            "Epoch 98/100\n",
            "4530/4530 [==============================] - 1s 181us/step - loss: 1.4066 - categorical_accuracy: 0.4137 - val_loss: 1.4227 - val_categorical_accuracy: 0.4184\n",
            "Epoch 99/100\n",
            "4530/4530 [==============================] - 1s 190us/step - loss: 1.4077 - categorical_accuracy: 0.4137 - val_loss: 1.4227 - val_categorical_accuracy: 0.4184\n",
            "Epoch 100/100\n",
            "4530/4530 [==============================] - 1s 186us/step - loss: 1.4076 - categorical_accuracy: 0.4137 - val_loss: 1.4231 - val_categorical_accuracy: 0.4184\n"
          ],
          "name": "stdout"
        }
      ]
    },
    {
      "cell_type": "code",
      "metadata": {
        "id": "MRBJNU7wDCWO",
        "colab_type": "code",
        "colab": {}
      },
      "source": [
        "y_pred_class_nn_2 = model1.predict_classes(x_test)\n",
        "y_pred_prob_nn_2 = model1.predict(x_test)"
      ],
      "execution_count": 0,
      "outputs": []
    },
    {
      "cell_type": "code",
      "metadata": {
        "id": "_p__UtQ7DX0_",
        "colab_type": "code",
        "outputId": "9e0bd9a3-573c-4df6-e198-90536335d950",
        "colab": {
          "base_uri": "https://localhost:8080/",
          "height": 573
        }
      },
      "source": [
        "plt.plot(history1.history['categorical_accuracy'])\n",
        "plt.plot(history1.history['val_categorical_accuracy'])\n",
        "plt.title('Model Accuracy with dropout')\n",
        "plt.ylabel('Accuracy')\n",
        "plt.xlabel('Epoch')\n",
        "plt.legend(['Train', 'Test'], loc='upper left')\n",
        "plt.show()\n",
        "\n",
        "# Plot training & validation loss values\n",
        "plt.plot(history1.history['loss'])\n",
        "plt.plot(history1.history['val_loss'])\n",
        "plt.title('Model loss with dropout')\n",
        "plt.ylabel('Loss')\n",
        "plt.xlabel('Epoch')\n",
        "plt.legend(['Train', 'Test'], loc='upper left')\n",
        "plt.show()"
      ],
      "execution_count": 34,
      "outputs": [
        {
          "output_type": "display_data",
          "data": {
            "image/png": "[encoded data removed]",
            "text/plain": [
              "<Figure size 432x288 with 1 Axes>"
            ]
          },
          "metadata": {
            "tags": []
          }
        },
        {
          "output_type": "display_data",
          "data": {
            "image/png": "[encoded data removed]",
            "text/plain": [
              "<Figure size 432x288 with 1 Axes>"
            ]
          },
          "metadata": {
            "tags": []
          }
        }
      ]
    },
    {
      "cell_type": "code",
      "metadata": {
        "id": "BQEVXebpEBDT",
        "colab_type": "code",
        "outputId": "49032cbc-ff3b-4d87-f4d6-1bd606761087",
        "colab": {
          "base_uri": "https://localhost:8080/",
          "height": 573
        }
      },
      "source": [
        "plt.plot(history.history['categorical_accuracy'],'b')\n",
        "plt.plot(history.history['val_categorical_accuracy'],'y',label='with dropout')\n",
        "plt.plot(history1.history['categorical_accuracy'],'b')\n",
        "plt.plot(history1.history['val_categorical_accuracy'],'y',label='with dropout')\n",
        "plt.title('Model Accuracy')\n",
        "plt.ylabel('Accuracy')\n",
        "plt.xlabel('Epoch')\n",
        "plt.legend(['Normal', 'With Epoch'], loc='upper left')\n",
        "plt.show()\n",
        "\n",
        "# Plot training & validation loss values\n",
        "plt.plot(history.history['loss'], 'b')\n",
        "plt.plot(history.history['val_loss'],'y',label='with dropout')\n",
        "plt.plot(history1.history['loss'],'b')\n",
        "plt.plot(history1.history['val_loss'],'y', label='with dropout')\n",
        "plt.title('Model loss')\n",
        "plt.ylabel('Loss')\n",
        "plt.xlabel('Epoch')\n",
        "plt.legend(['Normal', 'With Epoch'], loc='upper left')\n",
        "plt.show()"
      ],
      "execution_count": 33,
      "outputs": [
        {
          "output_type": "display_data",
          "data": {
            "image/png": "[encoded data removed]",
            "text/plain": [
              "<Figure size 432x288 with 1 Axes>"
            ]
          },
          "metadata": {
            "tags": []
          }
        },
        {
          "output_type": "display_data",
          "data": {
            "image/png": "[encoded data removed]",
            "text/plain": [
              "<Figure size 432x288 with 1 Axes>"
            ]
          },
          "metadata": {
            "tags": []
          }
        }
      ]
    },
    {
      "cell_type": "code",
      "metadata": {
        "id": "X-O4g0k1K-oP",
        "colab_type": "code",
        "colab": {}
      },
      "source": [
        "model2=Sequential()"
      ],
      "execution_count": 0,
      "outputs": []
    }
  ]
}